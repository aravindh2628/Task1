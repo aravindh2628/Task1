{
  "nbformat": 4,
  "nbformat_minor": 0,
  "metadata": {
    "colab": {
      "provenance": []
    },
    "kernelspec": {
      "name": "python3",
      "display_name": "Python 3"
    },
    "language_info": {
      "name": "python"
    }
  },
  "cells": [
    {
      "cell_type": "code",
      "execution_count": null,
      "metadata": {
        "colab": {
          "base_uri": "https://localhost:8080/",
          "height": 1000
        },
        "id": "t0vpNdhgZhM1",
        "outputId": "6c075f07-7674-453b-87b5-c26165ce3239"
      },
      "outputs": [
        {
          "output_type": "stream",
          "name": "stdout",
          "text": [
            "   survived  pclass     sex   age  sibsp  parch     fare embarked  class  \\\n",
            "0         0       3    male  22.0      1      0   7.2500        S  Third   \n",
            "1         1       1  female  38.0      1      0  71.2833        C  First   \n",
            "2         1       3  female  26.0      0      0   7.9250        S  Third   \n",
            "3         1       1  female  35.0      1      0  53.1000        S  First   \n",
            "4         0       3    male  35.0      0      0   8.0500        S  Third   \n",
            "\n",
            "     who  adult_male deck  embark_town alive  alone  \n",
            "0    man        True  NaN  Southampton    no  False  \n",
            "1  woman       False    C    Cherbourg   yes  False  \n",
            "2  woman       False  NaN  Southampton   yes   True  \n",
            "3  woman       False    C  Southampton   yes  False  \n",
            "4    man        True  NaN  Southampton    no   True  \n",
            "survived         0\n",
            "pclass           0\n",
            "sex              0\n",
            "age              0\n",
            "sibsp            0\n",
            "parch            0\n",
            "fare             0\n",
            "embarked         0\n",
            "class            0\n",
            "who              0\n",
            "adult_male       0\n",
            "deck           688\n",
            "embark_town      2\n",
            "alive            0\n",
            "alone            0\n",
            "dtype: int64\n"
          ]
        },
        {
          "output_type": "display_data",
          "data": {
            "text/plain": [
              "<Figure size 640x480 with 1 Axes>"
            ],
            "image/png": "[encoded data removed]"
          },
          "metadata": {}
        },
        {
          "output_type": "stream",
          "name": "stdout",
          "text": [
            "Cleaned Data Shape: (718, 16)\n",
            "   survived  pclass       age  sibsp  parch      fare  class    who  \\\n",
            "0         0       3 -0.565736      1      0 -0.502445  Third    man   \n",
            "2         1       3 -0.258337      0      0 -0.488854  Third  woman   \n",
            "3         1       1  0.433312      1      0  0.420730  First  woman   \n",
            "4         0       3  0.433312      0      0 -0.486337  Third    man   \n",
            "5         0       3 -0.104637      0      0 -0.478116  Third    man   \n",
            "\n",
            "   adult_male deck  embark_town alive  alone  sex_male  embarked_Q  embarked_S  \n",
            "0        True  NaN  Southampton    no  False      True       False        True  \n",
            "2       False  NaN  Southampton   yes   True     False       False        True  \n",
            "3       False    C  Southampton   yes  False     False       False        True  \n",
            "4        True  NaN  Southampton    no   True      True       False        True  \n",
            "5        True  NaN   Queenstown    no   True      True        True       False  \n"
          ]
        }
      ],
      "source": [
        "import pandas as pd\n",
        "import numpy as np\n",
        "import seaborn as sns\n",
        "import matplotlib.pyplot as plt\n",
        "from sklearn.preprocessing import StandardScaler\n",
        "df = sns.load_dataset('titanic')\n",
        "print(df.head())\n",
        "df['age'] = df['age'].fillna(df['age'].median())\n",
        "df['embarked'] = df['embarked'].fillna(df['embarked'].mode()[0])\n",
        "print(df.isnull().sum())\n",
        "df = pd.get_dummies(df, columns=['sex', 'embarked'], drop_first=True)\n",
        "from sklearn.preprocessing import StandardScaler\n",
        "scaler = StandardScaler()\n",
        "df[['age', 'fare']] = scaler.fit_transform(df[['age', 'fare']])\n",
        "sns.boxplot(data=df[['age', 'fare']])\n",
        "plt.title(\"Outlier Detection\")\n",
        "plt.show()\n",
        "for col in ['age', 'fare']:\n",
        "    Q1 = df[col].quantile(0.25)\n",
        "    Q3 = df[col].quantile(0.75)\n",
        "    IQR = Q3 - Q1\n",
        "    lower = Q1 - 1.5 * IQR\n",
        "    upper = Q3 + 1.5 * IQR\n",
        "    df = df[(df[col] >= lower) & (df[col] <= upper)]\n",
        "\n",
        "print(\"Cleaned Data Shape:\", df.shape)\n",
        "print(df.head())\n",
        "\n"
      ]
    }
  ]
}